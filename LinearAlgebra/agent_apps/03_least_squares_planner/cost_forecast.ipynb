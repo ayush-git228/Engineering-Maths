{
 "cells": [
  {
   "cell_type": "code",
   "execution_count": null,
   "id": "e5d4be54",
   "metadata": {
    "vscode": {
     "languageId": "plaintext"
    }
   },
   "outputs": [],
   "source": [
    "# Cost Forecasting with Least Squares (Normal Equation)\n",
    "import numpy as np\n",
    "import matplotlib.pyplot as plt\n",
    "\n",
    "# Jupyter Notebook\n",
    "\n",
    "import numpy as np\n",
    "import matplotlib.pyplot as plt\n",
    "from linear_regression_normal_eq import LinearRegressionNormalEq\n",
    "\n",
    "# Synthetic dataset (cost forecast)\n",
    "np.random.seed(42)\n",
    "X = np.linspace(1, 10, 20).reshape(-1, 1)\n",
    "y = 3 * X.squeeze() + 5 + np.random.randn(20)\n",
    "\n",
    "# Train model\n",
    "model = LinearRegressionNormalEq()\n",
    "model.fit(X, y)\n",
    "y_pred = model.predict(X)\n",
    "\n",
    "# Plot results\n",
    "plt.scatter(X, y, label=\"Data\")\n",
    "plt.plot(X, y_pred, color=\"red\", label=\"Prediction\")\n",
    "plt.legend()\n",
    "plt.title(\"Cost Forecast using Least Squares\")\n",
    "plt.show()\n",
    "\n",
    "print(\"Weights:\", model.w)"
   ]
  }
 ],
 "metadata": {
  "language_info": {
   "name": "python"
  }
 },
 "nbformat": 4,
 "nbformat_minor": 5
}
