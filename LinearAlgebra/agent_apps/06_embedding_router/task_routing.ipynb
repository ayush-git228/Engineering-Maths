{
 "cells": [
  {
   "cell_type": "code",
   "execution_count": null,
   "id": "6bb37609",
   "metadata": {
    "vscode": {
     "languageId": "plaintext"
    }
   },
   "outputs": [],
   "source": [
    "{\n",
    " \"cells\": [\n",
    "  {\"cell_type\":\"markdown\",\"metadata\":{},\"source\":[\"# Embedding Router (Non-demo)\\nRoute a query to the best tool by subspace projection strength.\"]},\n",
    "  {\"cell_type\":\"code\",\"metadata\":{},\"source\":[\"import numpy as np\\n\\ndef proj_length(A, x):\\n    P = A @ np.linalg.inv(A.T@A) @ A.T\\n    y = P @ x\\n    return float(np.linalg.norm(y))\\n\\nmath_axes = np.column_stack([np.array([1,0,0]), np.array([0,1,0])])\\ncode_axes = np.column_stack([np.array([0,0,1]), np.array([0,1,0])])\\nquery = np.array([0.8, 0.6, 0.1])\\nsm = proj_length(math_axes, query)\\nsc = proj_length(code_axes, query)\\nprint({'math': sm, 'code': sc, 'route': 'math' if sm>=sc else 'code'})\"],\"execution_count\":null,\"outputs\":[]}\n",
    " ],\n",
    " \"metadata\":{\"kernelspec\":{\"display_name\":\"Python 3\",\"language\":\"python\",\"name\":\"python3\"}},\n",
    " \"nbformat\":4,\"nbformat_minor\":5\n",
    "}"
   ]
  }
 ],
 "metadata": {
  "language_info": {
   "name": "python"
  }
 },
 "nbformat": 4,
 "nbformat_minor": 5
}
