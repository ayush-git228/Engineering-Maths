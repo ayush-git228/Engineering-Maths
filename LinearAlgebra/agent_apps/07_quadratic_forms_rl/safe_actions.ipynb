{
 "cells": [
  {
   "cell_type": "code",
   "execution_count": null,
   "id": "a18d6fe1",
   "metadata": {
    "vscode": {
     "languageId": "plaintext"
    }
   },
   "outputs": [],
   "source": [
    "{\n",
    " \"cells\": [\n",
    "  {\"cell_type\":\"markdown\",\"metadata\":{},\"source\":[\"# Quadratic-form Safety (Non-demo)\\nUse PSD Q to penalize risky action dimensions.\"]},\n",
    "  {\"cell_type\":\"code\",\"metadata\":{},\"source\":[\"import numpy as np\\n\\nQ = np.array([[1.0,0.0],[0.0,5.0]])\\nactions = {\\n    'slow_safe': np.array([1.0,0.2]),\\n    'fast_risky': np.array([2.0,1.5]),\\n    'balanced':  np.array([1.5,0.6]),\\n}\\ncosts = {k: float(v.T@Q@v) for k,v in actions.items()}\\nprint('costs:', dict(sorted(costs.items(), key=lambda t:t[1])))\"],\"execution_count\":null,\"outputs\":[]}\n",
    " ],\n",
    " \"metadata\":{\"kernelspec\":{\"display_name\":\"Python 3\",\"language\":\"python\",\"name\":\"python3\"}},\n",
    " \"nbformat\":4,\"nbformat_minor\":5\n",
    "}"
   ]
  }
 ],
 "metadata": {
  "language_info": {
   "name": "python"
  }
 },
 "nbformat": 4,
 "nbformat_minor": 5
}
