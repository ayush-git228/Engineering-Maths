{
 "cells": [
  {
   "cell_type": "code",
   "execution_count": null,
   "id": "d57a9c38",
   "metadata": {
    "vscode": {
     "languageId": "plaintext"
    }
   },
   "outputs": [],
   "source": [
    "{\n",
    " \"cells\": [\n",
    "  {\"cell_type\":\"markdown\",\"metadata\":{},\"source\":[\"# Projection-based Memory (Non-demo)\\nKeep only task-subspace content by orthogonal projection.\"]},\n",
    "  {\"cell_type\":\"code\",\"metadata\":{},\"source\":[\"import numpy as np\\n\\ntopic_A = np.array([1.,0.,0.,0.])\\ntopic_B = np.array([0.,1.,0.,0.])\\nA = np.column_stack([topic_A, topic_B])\\ncontext = np.array([2.,3.,5.,7.])\\nP = A @ np.linalg.inv(A.T@A) @ A.T\\nreduced = P @ context\\nprint('original:', context)\\nprint('projected:', reduced)\"],\"execution_count\":null,\"outputs\":[]}\n",
    " ],\n",
    " \"metadata\":{\"kernelspec\":{\"display_name\":\"Python 3\",\"language\":\"python\",\"name\":\"python3\"}},\n",
    " \"nbformat\":4,\"nbformat_minor\":5\n",
    "}"
   ]
  }
 ],
 "metadata": {
  "language_info": {
   "name": "python"
  }
 },
 "nbformat": 4,
 "nbformat_minor": 5
}
