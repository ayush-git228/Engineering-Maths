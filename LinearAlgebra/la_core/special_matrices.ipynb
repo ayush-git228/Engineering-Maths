{
 "cells": [
  {
   "cell_type": "code",
   "execution_count": null,
   "id": "8ccc9b6e",
   "metadata": {
    "vscode": {
     "languageId": "plaintext"
    }
   },
   "outputs": [],
   "source": [
    "{\n",
    " \"cells\": [\n",
    "  {\"cell_type\":\"markdown\",\"metadata\":{},\"source\":[\"# Special Matrices: Projection / Orthogonal / Idempotent / Partition\"]},\n",
    "  {\"cell_type\":\"code\",\"metadata\":{},\"source\":[\"import numpy as np\\n\\nP = np.array([[1,0,0],[0,1,0],[0,0,0.]], float)\\nQ = np.array([[0,1],[1,0]], float)\\nprint('Projection?', np.allclose(P@P,P))\\nprint('Orthogonal?', np.allclose(Q.T@Q, np.eye(2)))\"],\"execution_count\":null,\"outputs\":[]}\n",
    " ],\n",
    " \"metadata\":{\"kernelspec\":{\"display_name\":\"Python 3\",\"language\":\"python\",\"name\":\"python3\"}},\n",
    " \"nbformat\":4,\"nbformat_minor\":5\n",
    "}"
   ]
  }
 ],
 "metadata": {
  "language_info": {
   "name": "python"
  }
 },
 "nbformat": 4,
 "nbformat_minor": 5
}
