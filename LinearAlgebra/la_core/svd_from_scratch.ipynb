{
 "cells": [
  {
   "cell_type": "code",
   "execution_count": null,
   "id": "e2d8a09a",
   "metadata": {
    "vscode": {
     "languageId": "plaintext"
    }
   },
   "outputs": [],
   "source": [
    "{\n",
    " \"cells\": [\n",
    "  {\"cell_type\":\"markdown\",\"metadata\":{},\"source\":[\"# SVD & Low-Rank Approximation\"]},\n",
    "  {\"cell_type\":\"code\",\"metadata\":{},\"source\":[\"import numpy as np\\n\\nX = np.random.randn(8,5)\\nU,S,Vt = np.linalg.svd(X, full_matrices=False)\\nrank2 = (U[:,:2]@np.diag(S[:2])@Vt[:2,:])\\nprint('||X||_F:', np.linalg.norm(X,'fro'))\\nprint('||X - rank2||_F:', np.linalg.norm(X-rank2,'fro'))\"],\"execution_count\":null,\"outputs\":[]}\n",
    " ],\n",
    " \"metadata\":{\"kernelspec\":{\"display_name\":\"Python 3\",\"language\":\"python\",\"name\":\"python3\"}},\n",
    " \"nbformat\":4,\"nbformat_minor\":5\n",
    "}"
   ]
  }
 ],
 "metadata": {
  "language_info": {
   "name": "python"
  }
 },
 "nbformat": 4,
 "nbformat_minor": 5
}
