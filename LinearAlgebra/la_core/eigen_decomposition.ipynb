{
 "cells": [
  {
   "cell_type": "code",
   "execution_count": null,
   "id": "5fd8e819",
   "metadata": {
    "vscode": {
     "languageId": "plaintext"
    }
   },
   "outputs": [],
   "source": [
    "{\n",
    " \"cells\": [\n",
    "  {\"cell_type\":\"markdown\",\"metadata\":{},\"source\":[\"# Eigenvalues & Eigenvectors (Power Iteration)\"]},\n",
    "  {\"cell_type\":\"code\",\"metadata\":{},\"source\":[\"import numpy as np\\n\\ndef power_iteration(A, iters=1000, tol=1e-10):\\n    n = A.shape[0]\\n    v = np.ones(n)/np.sqrt(n)\\n    lam_old = 0.0\\n    for _ in range(iters):\\n        w = A @ v\\n        nrm = np.linalg.norm(w)\\n        if nrm == 0: return 0.0, v\\n        v = w/nrm\\n        lam = v @ (A @ v)\\n        if abs(lam - lam_old) < tol: break\\n        lam_old = lam\\n    return lam, v\\n\\nA = np.array([[0.,1.,1.],[1.,0.,1.],[1.,1.,0.]])\\nlam, v = power_iteration(A)\\nprint('dominant eigenvalue:', lam)\\nprint('eigenvector:', v)\"],\"execution_count\":null,\"outputs\":[]}\n",
    " ],\n",
    " \"metadata\":{\"kernelspec\":{\"display_name\":\"Python 3\",\"language\":\"python\",\"name\":\"python3\"}},\n",
    " \"nbformat\":4,\"nbformat_minor\":5\n",
    "}"
   ]
  }
 ],
 "metadata": {
  "language_info": {
   "name": "python"
  }
 },
 "nbformat": 4,
 "nbformat_minor": 5
}
