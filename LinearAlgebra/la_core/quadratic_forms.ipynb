{
 "cells": [
  {
   "cell_type": "code",
   "execution_count": null,
   "id": "a5ace925",
   "metadata": {
    "vscode": {
     "languageId": "plaintext"
    }
   },
   "outputs": [],
   "source": [
    "{\n",
    " \"cells\": [\n",
    "  {\"cell_type\":\"markdown\",\"metadata\":{},\"source\":[\"# Quadratic Forms & PSD\"]},\n",
    "  {\"cell_type\":\"code\",\"metadata\":{},\"source\":[\"import numpy as np\\n\\nQ = np.array([[2.,0.],[0.,1.]])\\nx = np.array([1.,3.])\\nev = np.linalg.eigvalsh((Q+Q.T)/2)\\nprint('PSD?', np.all(ev>=-1e-12))\\nprint('x^T Q x =', float(x.T@Q@x))\"],\"execution_count\":null,\"outputs\":[]}\n",
    " ],\n",
    " \"metadata\":{\"kernelspec\":{\"display_name\":\"Python 3\",\"language\":\"python\",\"name\":\"python3\"}},\n",
    " \"nbformat\":4,\"nbformat_minor\":5\n",
    "}"
   ]
  }
 ],
 "metadata": {
  "language_info": {
   "name": "python"
  }
 },
 "nbformat": 4,
 "nbformat_minor": 5
}
